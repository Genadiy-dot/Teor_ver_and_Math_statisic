{
 "cells": [
  {
   "cell_type": "code",
   "execution_count": 29,
   "metadata": {},
   "outputs": [],
   "source": [
    "import numpy as np\n",
    "import pandas as pd\n",
    "from scipy import stats\n",
    "from matplotlib import pyplot as plt"
   ]
  },
  {
   "cell_type": "markdown",
   "metadata": {},
   "source": [
    "**Расчет основных статистик через pandas**"
   ]
  },
  {
   "cell_type": "code",
   "execution_count": 50,
   "metadata": {},
   "outputs": [
    {
     "name": "stdout",
     "output_type": "stream",
     "text": [
      "mean: 6.4\n",
      "variation by default in pandas: 17.3\n",
      "variation: 13.84\n",
      "inbiased variation: 17.3\n",
      "std: 4.159326868617084\n",
      "1st quantile: 4.0 \n"
     ]
    }
   ],
   "source": [
    "li = [4, 1, 7, 8, 12]\n",
    "df = pd.DataFrame(li, columns=['data'])\n",
    "mean = df['data'].mean()\n",
    "var_default = df['data'].var()\n",
    "var_b = df['data'].var(ddof=0)  # смещенная\n",
    "var_ub = df['data'].var(ddof=1) # несмещенная\n",
    "std = df['data'].std()\n",
    "Q1 = df['data'].quantile(0.25)\n",
    "\n",
    "print(f\"mean: {mean}\\nvariation by default in pandas: {var_default}\\nvariation: {var_b}\\\n",
    "\\ninbiased variation: {var_ub}\\nstd: {std}\\n1st quantile: {Q1}\")"
   ]
  },
  {
   "cell_type": "markdown",
   "metadata": {},
   "source": [
    "**Расчет основных сатистик через numpy**"
   ]
  },
  {
   "cell_type": "code",
   "execution_count": 52,
   "metadata": {},
   "outputs": [
    {
     "name": "stdout",
     "output_type": "stream",
     "text": [
      "mean: 6.4\n",
      "variation by default in numpy: 13.84\n",
      "variation: 13.84\n",
      "inbiased variation: 17.3\n",
      "std: 3.7202150475476548\n",
      "1st quantile: 4.0\n"
     ]
    }
   ],
   "source": [
    "li = [4, 1, 7, 8, 12]\n",
    "ar = np.array(li)\n",
    "mean = ar.mean()\n",
    "var_default = ar.var()\n",
    "var_b = ar.var(ddof=0)  # смещенная\n",
    "var_ub = ar.var(ddof=1) # несмещенная\n",
    "std = ar.std()\n",
    "Q1 = np.quantile(ar, 0.25)\n",
    "\n",
    "print(f\"mean: {mean}\\nvariation by default in numpy: {var_default}\\nvariation: {var_b}\\\n",
    "\\ninbiased variation: {var_ub}\\nstd: {std}\\n1st quantile: {Q1}\")"
   ]
  },
  {
   "cell_type": "markdown",
   "metadata": {},
   "source": [
    "**Генерация эмпиричиских данных заданных законов распределения**\n",
    "\n",
    "Используем модуль random из numpy с указанием конкретного закона"
   ]
  },
  {
   "cell_type": "markdown",
   "metadata": {},
   "source": [
    "Нормальный:"
   ]
  },
  {
   "cell_type": "code",
   "execution_count": 9,
   "metadata": {
    "scrolled": true
   },
   "outputs": [
    {
     "data": {
      "text/plain": [
       "(array([0.00106896, 0.00987216, 0.04558799, 0.12620013, 0.19341883,\n",
       "        0.15908636, 0.07356958, 0.01741776, 0.0022008 , 0.00037728]),\n",
       " array([-4.4872943 , -2.89696311, -1.30663192,  0.28369927,  1.87403045,\n",
       "         3.46436164,  5.05469283,  6.64502402,  8.23535521,  9.8256864 ,\n",
       "        11.41601758]),\n",
       " <a list of 10 Patch objects>)"
      ]
     },
     "execution_count": 9,
     "metadata": {},
     "output_type": "execute_result"
    },
    {
     "data": {
      "image/png": "[encoded data removed]",
      "text/plain": [
       "<Figure size 432x288 with 1 Axes>"
      ]
     },
     "metadata": {
      "needs_background": "light"
     },
     "output_type": "display_data"
    }
   ],
   "source": [
    "loc = 3 # mu\n",
    "scale = 2 #sigma\n",
    "samples = np.random.normal(loc, scale, size=10000)\n",
    "plt.hist(samples, density=True)"
   ]
  },
  {
   "cell_type": "markdown",
   "metadata": {},
   "source": [
    "Равномерный:"
   ]
  },
  {
   "cell_type": "code",
   "execution_count": 8,
   "metadata": {
    "scrolled": true
   },
   "outputs": [
    {
     "data": {
      "text/plain": [
       "(array([0.20768691, 0.20268482, 0.20768691, 0.19328088, 0.1930808 ,\n",
       "        0.19788281, 0.19288072, 0.20328507, 0.20088407, 0.20148432]),\n",
       " array([-2.99821923e+00, -2.49842847e+00, -1.99863771e+00, -1.49884695e+00,\n",
       "        -9.99056192e-01, -4.99265434e-01,  5.25325155e-04,  5.00316084e-01,\n",
       "         1.00010684e+00,  1.49989760e+00,  1.99968836e+00]),\n",
       " <a list of 10 Patch objects>)"
      ]
     },
     "execution_count": 8,
     "metadata": {},
     "output_type": "execute_result"
    },
    {
     "data": {
      "image/png": "[encoded data removed]",
      "text/plain": [
       "<Figure size 432x288 with 1 Axes>"
      ]
     },
     "metadata": {
      "needs_background": "light"
     },
     "output_type": "display_data"
    }
   ],
   "source": [
    "a = -3 \n",
    "b = 2 \n",
    "samples = np.random.uniform(a, b, size=10000)\n",
    "plt.hist(samples, density=True)"
   ]
  },
  {
   "cell_type": "markdown",
   "metadata": {},
   "source": [
    "Полный список распределений можно посмотреть тут: https://numpy.org/doc/1.16/reference/routines.random.html"
   ]
  },
  {
   "cell_type": "markdown",
   "metadata": {},
   "source": [
    "**Построение теоритической функции распределения F(x) для заданного закона распределения. Используем функцию cdf()**"
   ]
  },
  {
   "cell_type": "markdown",
   "metadata": {},
   "source": [
    "Нормальный:"
   ]
  },
  {
   "cell_type": "code",
   "execution_count": 24,
   "metadata": {},
   "outputs": [
    {
     "data": {
      "text/plain": [
       "[<matplotlib.lines.Line2D at 0x12a3be92fc8>]"
      ]
     },
     "execution_count": 24,
     "metadata": {},
     "output_type": "execute_result"
    },
    {
     "data": {
      "image/png": "[encoded data removed]",
      "text/plain": [
       "<Figure size 432x288 with 1 Axes>"
      ]
     },
     "metadata": {
      "needs_background": "light"
     },
     "output_type": "display_data"
    }
   ],
   "source": [
    "loc = 3 # mu\n",
    "scale = 2 #sigma\n",
    "ox = np.linspace(-8, 12, 1000)\n",
    "oy = stats.norm.cdf(ox, loc, scale)\n",
    "plt.plot(ox, oy)"
   ]
  },
  {
   "cell_type": "markdown",
   "metadata": {},
   "source": [
    "Равномерный:\n",
    "\n",
    "В данной функции параметр b - это не верхняя граница промежутка, а длина отрезка, то есть если a = 4, b = 6, отрезок будет [4, 4 + 6] -> [4, 10]"
   ]
  },
  {
   "cell_type": "code",
   "execution_count": 22,
   "metadata": {
    "scrolled": true
   },
   "outputs": [
    {
     "data": {
      "text/plain": [
       "[<matplotlib.lines.Line2D at 0x12a3be20108>]"
      ]
     },
     "execution_count": 22,
     "metadata": {},
     "output_type": "execute_result"
    },
    {
     "data": {
      "image/png": "[encoded data removed]",
      "text/plain": [
       "<Figure size 432x288 with 1 Axes>"
      ]
     },
     "metadata": {
      "needs_background": "light"
     },
     "output_type": "display_data"
    }
   ],
   "source": [
    "a = 4\n",
    "b = 6\n",
    "ox = np.linspace(-8, 20, 1000)\n",
    "oy = stats.uniform.cdf(ox, a, b)\n",
    "plt.plot(ox, oy)"
   ]
  },
  {
   "cell_type": "markdown",
   "metadata": {},
   "source": [
    "Полный список распределений можно посмотреть тут: https://docs.scipy.org/doc/scipy/reference/stats.html"
   ]
  },
  {
   "cell_type": "markdown",
   "metadata": {},
   "source": [
    "Если необхожимо найти фукнцию распределения от конкретного числа: F(10) = P(X < 10), также используем функцию cdf(). Например, для нормального закона распределения: "
   ]
  },
  {
   "cell_type": "code",
   "execution_count": 25,
   "metadata": {},
   "outputs": [
    {
     "data": {
      "text/plain": [
       "0.9999683287581669"
      ]
     },
     "execution_count": 25,
     "metadata": {},
     "output_type": "execute_result"
    }
   ],
   "source": [
    "mu = 6\n",
    "sigma = 1\n",
    "stats.norm.cdf(10, loc = mu, scale = sigma)"
   ]
  },
  {
   "cell_type": "markdown",
   "metadata": {},
   "source": [
    "**Построение функции плотности f(x) для заданного закона распределения. Используем функцию pdf()**"
   ]
  },
  {
   "cell_type": "markdown",
   "metadata": {},
   "source": [
    "Нормальный:"
   ]
  },
  {
   "cell_type": "code",
   "execution_count": 27,
   "metadata": {
    "scrolled": false
   },
   "outputs": [
    {
     "data": {
      "text/plain": [
       "[<matplotlib.lines.Line2D at 0x12a3bf01b88>]"
      ]
     },
     "execution_count": 27,
     "metadata": {},
     "output_type": "execute_result"
    },
    {
     "data": {
      "image/png": "[encoded data removed]",
      "text/plain": [
       "<Figure size 432x288 with 1 Axes>"
      ]
     },
     "metadata": {
      "needs_background": "light"
     },
     "output_type": "display_data"
    }
   ],
   "source": [
    "loc = 3 # mu\n",
    "scale = 2 #sigma\n",
    "ox = np.linspace(-8, 12, 1000)\n",
    "oy = stats.norm.pdf(ox, loc, scale)\n",
    "plt.plot(ox, oy)"
   ]
  },
  {
   "cell_type": "markdown",
   "metadata": {},
   "source": [
    "Равномерный:\n",
    "\n",
    "В данной функции параметр b - это не верхняя граница промежутка, а длина отрезка, то есть если a = 4, b = 6, отрезок будет [4, 4 + 6] -> [4, 10]"
   ]
  },
  {
   "cell_type": "code",
   "execution_count": 28,
   "metadata": {
    "scrolled": true
   },
   "outputs": [
    {
     "data": {
      "text/plain": [
       "[<matplotlib.lines.Line2D at 0x12a3bf76a08>]"
      ]
     },
     "execution_count": 28,
     "metadata": {},
     "output_type": "execute_result"
    },
    {
     "data": {
      "image/png": "[encoded data removed]",
      "text/plain": [
       "<Figure size 432x288 with 1 Axes>"
      ]
     },
     "metadata": {
      "needs_background": "light"
     },
     "output_type": "display_data"
    }
   ],
   "source": [
    "a = 4\n",
    "b = 6\n",
    "ox = np.linspace(-8, 20, 1000)\n",
    "oy = stats.uniform.pdf(ox, a, b)\n",
    "plt.plot(ox, oy)"
   ]
  }
 ],
 "metadata": {
  "kernelspec": {
   "display_name": "Python 3",
   "language": "python",
   "name": "python3"
  },
  "language_info": {
   "codemirror_mode": {
    "name": "ipython",
    "version": 3
   },
   "file_extension": ".py",
   "mimetype": "text/x-python",
   "name": "python",
   "nbconvert_exporter": "python",
   "pygments_lexer": "ipython3",
   "version": "3.8.8"
  }
 },
 "nbformat": 4,
 "nbformat_minor": 2
}
